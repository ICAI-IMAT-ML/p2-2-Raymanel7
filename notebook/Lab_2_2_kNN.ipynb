{
 "cells": [
  {
   "cell_type": "markdown",
   "metadata": {},
   "source": [
    "# Laboratory practice 2.2: KNN classification\n",
    "\n",
    "Here we will implement our first ML model based on the _very_ popular KNN algorithm. We will use the preprocessed data from the previous practice, `SimData.dat`. The data should be properly cleaned already, and we should have available the two resulting files `train.dat` and `test.dat` with the training and testing data, respectively. Therefore, we will not need to do the preprocessing here, which is why we will (almost) jump to implementing KNN and applying it to the data."
   ]
  },
  {
   "cell_type": "code",
   "execution_count": 1,
   "metadata": {
    "id": "M2DWzwCyFqNr"
   },
   "outputs": [],
   "source": [
    "# Load the modules you'll need later\n",
    "\n",
    "# Plotting libraries\n",
    "import seaborn as sns\n",
    "import matplotlib.pyplot as plt\n",
    "sns.set_theme()\n",
    "\n",
    "# Data management libraries\n",
    "import numpy as np # linear algebra\n",
    "import pandas as pd # data processing, CSV file I/O (e.g. pd.read_csv)\n",
    "\n",
    "# Add Lab_2_2_kNN.py to the path\n",
    "import sys\n",
    "sys.path.append('../src')\n",
    "\n",
    "# Import the functions from the solution\n",
    "from Lab_2_2_kNN import knn, plot_probability_histograms, plot_roc_curve, evaluate_classification_metrics, plot_2Dmodel_predictions, plot_calibration_curve"
   ]
  },
  {
   "cell_type": "markdown",
   "metadata": {
    "id": "jhuWAmScFqNu"
   },
   "source": [
    "## 1. Prepare the Dataset"
   ]
  },
  {
   "cell_type": "markdown",
   "metadata": {
    "id": "DyWEeIfqnbcB"
   },
   "source": [
    "This part of the process you already did in the previous practice! You can reuse everything here. Moreover, if you saved the train/test split into `train.dat` and `test.dat`, you can use them here!"
   ]
  },
  {
   "cell_type": "code",
   "execution_count": 2,
   "metadata": {
    "id": "j-ue2KRNFqNv"
   },
   "outputs": [],
   "source": [
    "# Load the train and test data you generated (use the name \"train_df\" and \"test_df\")\n",
    "train_df = pd.read_table(\"../data/train.dat\")\n",
    "\n",
    "# Convert output variable to factor\n",
    "test_df = pd.read_table(\"../data/test.dat\")"
   ]
  },
  {
   "cell_type": "code",
   "execution_count": 3,
   "metadata": {
    "id": "b6F2BtZdFqNx"
   },
   "outputs": [],
   "source": [
    "# Define input and output variables, and store X_train, X_test, y_train and y_test matrices\n",
    "input_vars = ['X1','X2']\n",
    "target_var = 'Y'\n",
    "\n",
    "X_train = train_df[input_vars]\n",
    "y_train = train_df[target_var]\n",
    "X_test = test_df[input_vars]\n",
    "y_test = test_df[target_var]\n",
    "\n",
    "\n"
   ]
  },
  {
   "cell_type": "markdown",
   "metadata": {
    "id": "uuc81ZpdFqNy"
   },
   "source": [
    "## 2. Training of Machine Learning models"
   ]
  },
  {
   "cell_type": "markdown",
   "metadata": {
    "id": "KocL1hskFqNy"
   },
   "source": [
    "#### Minkowski Distance"
   ]
  },
  {
   "cell_type": "markdown",
   "metadata": {
    "id": "Qb3UpDNzFqNz"
   },
   "source": [
    "<center><img alt=\"minkowski distance\" src=\"data:image/png;base64,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\"/></center>"
   ]
  },
  {
   "cell_type": "markdown",
   "metadata": {
    "id": "a0YN0JfSFqNz"
   },
   "source": [
    "#### k-Nearest Neighbors Model"
   ]
  },
  {
   "cell_type": "markdown",
   "metadata": {
    "id": "GnJOxSfHFqNz"
   },
   "source": [
    "- [K-Nearest Neighbours](https://scikit-learn.org/stable/modules/neighbors.html#classification)\n",
    "- [KNeighborsClassifier](https://scikit-learn.org/stable/modules/generated/sklearn.neighbors.KNeighborsClassifier.html)"
   ]
  },
  {
   "cell_type": "code",
   "execution_count": 4,
   "metadata": {
    "id": "JmB6PazkFqN0"
   },
   "outputs": [
    {
     "name": "stdout",
     "output_type": "stream",
     "text": [
      "kNN model (k=None, p=None)\n"
     ]
    }
   ],
   "source": [
    "# Inputs of the model. Change accordingly to perform feature selection\n",
    "INPUTS_KNN = input_vars\n",
    "\n",
    "# Define hyperparameters of the model\n",
    "k = 31 # Number of nearest neighbors\n",
    "p = 2 # Order of Minkowski distance (what distance is this?)\n",
    "\n",
    "# Create a model object\n",
    "knn_fit = knn()\n",
    "print(knn_fit)"
   ]
  },
  {
   "cell_type": "code",
   "execution_count": 5,
   "metadata": {
    "id": "q0H0q2ZEFqN0"
   },
   "outputs": [
    {
     "name": "stdout",
     "output_type": "stream",
     "text": [
      "kNN Trained\n",
      "kNN model (k=31, p=2)\n"
     ]
    }
   ],
   "source": [
    "# Train model\n",
    "knn_fit.fit(X_train[INPUTS_KNN].values, y_train.values, k=k, p=p)\n",
    "print(\"kNN Trained\")\n",
    "print(knn_fit)"
   ]
  },
  {
   "cell_type": "code",
   "execution_count": 6,
   "metadata": {},
   "outputs": [
    {
     "data": {
      "image/png": "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